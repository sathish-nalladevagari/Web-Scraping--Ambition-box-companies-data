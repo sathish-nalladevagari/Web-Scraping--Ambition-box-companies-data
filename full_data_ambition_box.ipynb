{
  "nbformat": 4,
  "nbformat_minor": 0,
  "metadata": {
    "colab": {
      "name": "full data ambition box.ipynb",
      "provenance": [],
      "mount_file_id": "1-_C0MpatyTDWdyjYc24Fka5FG0PmAJak",
      "authorship_tag": "ABX9TyP0lTSqQYhVNSANEjUBRfSH",
      "include_colab_link": true
    },
    "kernelspec": {
      "name": "python3",
      "display_name": "Python 3"
    },
    "language_info": {
      "name": "python"
    }
  },
  "cells": [
    {
      "cell_type": "markdown",
      "metadata": {
        "id": "view-in-github",
        "colab_type": "text"
      },
      "source": [
        "<a href=\"https://colab.research.google.com/github/sathish-nalladevagari/ambitionbox-companies-data/blob/main/full_data_ambition_box.ipynb\" target=\"_parent\"><img src=\"https://colab.research.google.com/assets/colab-badge.svg\" alt=\"Open In Colab\"/></a>"
      ]
    },
    {
      "cell_type": "code",
      "execution_count": 1,
      "metadata": {
        "id": "oZ5OjEf-9ArR"
      },
      "outputs": [],
      "source": [
        "from bs4 import BeautifulSoup\n",
        "import requests"
      ]
    },
    {
      "cell_type": "code",
      "source": [
        ""
      ],
      "metadata": {
        "id": "UNEC0X579Jim"
      },
      "execution_count": 17,
      "outputs": []
    },
    {
      "cell_type": "code",
      "source": [
        ""
      ],
      "metadata": {
        "id": "nZ5-0BMQ9YO4"
      },
      "execution_count": 28,
      "outputs": []
    },
    {
      "cell_type": "code",
      "source": [
        "import numpy as np"
      ],
      "metadata": {
        "id": "yEVkOpFg9vml"
      },
      "execution_count": 56,
      "outputs": []
    },
    {
      "cell_type": "code",
      "source": [
        "c_name = []\n",
        "place = []\n",
        "c_type = []\n",
        "old = []\n",
        "emp = []\n",
        "rating = []\n",
        "review = []\n",
        "\n",
        "\n",
        "pages = range(1,332)\n",
        "for page in pages:\n",
        "  webpage = requests.get(\"https://www.ambitionbox.com/list-of-companies?page={}\".format(page)).text\n",
        "  soup=BeautifulSoup(webpage,'lxml')\n",
        "  companies=soup.find_all('div',class_='company-content-wrapper')\n",
        "\n",
        "  for company in companies:\n",
        "    c_name.append(company.find('h2',class_=\"company-name bold-title-l\").text.strip())\n",
        "    try:\n",
        "      place.append(company.find_all('p',class_=\"infoEntity\")[1].get_text(strip=True))\n",
        "    except:\n",
        "      place.append(np.nan)\n",
        "    try:\n",
        "      c_type.append(company.find_all('p',class_=\"infoEntity\")[0].get_text(strip=True))\n",
        "    except:\n",
        "      c_type.append(np.nan)\n",
        "    try:\n",
        "      old.append(company.find_all('p',class_=\"infoEntity\")[2].get_text(strip=True))\n",
        "    except:\n",
        "      old.append(np.nan)\n",
        "  \n",
        "    rating.append(company.find('p',class_='rating').text.strip())\n",
        "    review.append(company.find('a',class_='review-count').text.strip())\n",
        "  \n",
        "\n",
        "data = {'Company':c_name,'rating':rating,'reviews':review,'place':place,\"company type\":c_type,'old':old}\n"
      ],
      "metadata": {
        "id": "3HO2_Qlt9yfb"
      },
      "execution_count": 71,
      "outputs": []
    },
    {
      "cell_type": "code",
      "source": [
        "import pandas as pd"
      ],
      "metadata": {
        "id": "QcyCsxFJ94xu"
      },
      "execution_count": 72,
      "outputs": []
    },
    {
      "cell_type": "code",
      "source": [
        "df = pd.DataFrame(data)"
      ],
      "metadata": {
        "id": "9jfnXR6i-ENL"
      },
      "execution_count": 73,
      "outputs": []
    },
    {
      "cell_type": "code",
      "source": [
        "df.to_csv('full-data-ambitionbox.csv')"
      ],
      "metadata": {
        "id": "prJcwTuU-GV8"
      },
      "execution_count": 75,
      "outputs": []
    },
    {
      "cell_type": "code",
      "source": [
        ""
      ],
      "metadata": {
        "id": "QQ8SBtSV_RHq"
      },
      "execution_count": null,
      "outputs": []
    }
  ]
}